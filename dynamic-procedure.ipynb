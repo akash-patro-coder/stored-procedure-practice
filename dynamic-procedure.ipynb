{
 "cells": [
  {
   "cell_type": "code",
   "execution_count": 0,
   "metadata": {
    "application/vnd.databricks.v1+cell": {
     "cellMetadata": {
      "byteLimit": 2048000,
      "implicitDf": true,
      "rowLimit": 10000
     },
     "inputWidgets": {},
     "nuid": "00b34000-441c-4f14-acfa-3713dfd7a133",
     "showTitle": false,
     "tableResultSettingsMap": {},
     "title": ""
    }
   },
   "outputs": [],
   "source": [
    "%sql\n",
    "-- Create Customers Table\n",
    "CREATE TABLE customers (\n",
    "    customer_id INT NOT NULL,\n",
    "    name STRING NOT NULL,\n",
    "    email STRING,\n",
    "    city STRING,\n",
    "    join_date DATE NOT NULL,\n",
    "    updated_at TIMESTAMP,\n",
    "    created_at TIMESTAMP,\n",
    "    CONSTRAINT pk_customers PRIMARY KEY (customer_id)\n",
    ");\n"
   ]
  },
  {
   "cell_type": "code",
   "execution_count": 0,
   "metadata": {
    "application/vnd.databricks.v1+cell": {
     "cellMetadata": {
      "byteLimit": 2048000,
      "implicitDf": true,
      "rowLimit": 10000
     },
     "inputWidgets": {},
     "nuid": "44a0de9b-ff71-4191-8d2c-6ca754297b7b",
     "showTitle": false,
     "tableResultSettingsMap": {},
     "title": ""
    }
   },
   "outputs": [],
   "source": [
    "%sql\n",
    "-- Create Orders Table\n",
    "CREATE TABLE orders (\n",
    "    order_id INT NOT NULL,\n",
    "    customer_id INT,\n",
    "    product_name STRING,\n",
    "    order_amount DECIMAL(10,2),\n",
    "    order_date DATE,\n",
    "    CONSTRAINT pk_orders PRIMARY KEY (order_id),\n",
    "    CONSTRAINT fk_orders_customers FOREIGN KEY (customer_id) REFERENCES customers(customer_id)\n",
    ");"
   ]
  },
  {
   "cell_type": "code",
   "execution_count": 0,
   "metadata": {
    "application/vnd.databricks.v1+cell": {
     "cellMetadata": {
      "byteLimit": 2048000,
      "implicitDf": true,
      "rowLimit": 10000
     },
     "inputWidgets": {},
     "nuid": "e617a275-61b4-4826-8aa3-f5cbf75f993c",
     "showTitle": false,
     "tableResultSettingsMap": {},
     "title": ""
    }
   },
   "outputs": [],
   "source": [
    "%sql\n",
    "select * from customers;"
   ]
  },
  {
   "cell_type": "code",
   "execution_count": 0,
   "metadata": {
    "application/vnd.databricks.v1+cell": {
     "cellMetadata": {
      "byteLimit": 2048000,
      "implicitDf": true,
      "rowLimit": 10000
     },
     "inputWidgets": {},
     "nuid": "7fc63687-dc93-4a26-902b-1bb92d412f68",
     "showTitle": false,
     "tableResultSettingsMap": {},
     "title": ""
    }
   },
   "outputs": [],
   "source": [
    "%sql\n",
    "select * from orders"
   ]
  },
  {
   "cell_type": "code",
   "execution_count": 0,
   "metadata": {
    "application/vnd.databricks.v1+cell": {
     "cellMetadata": {
      "byteLimit": 2048000,
      "implicitDf": true,
      "rowLimit": 10000
     },
     "inputWidgets": {},
     "nuid": "1b1e279d-7ea8-4a3f-9280-b79875b9051d",
     "showTitle": false,
     "tableResultSettingsMap": {},
     "title": ""
    }
   },
   "outputs": [],
   "source": [
    "%sql\n",
    "DESCRIBE TABLE customers;\n"
   ]
  },
  {
   "cell_type": "code",
   "execution_count": 0,
   "metadata": {
    "application/vnd.databricks.v1+cell": {
     "cellMetadata": {
      "byteLimit": 2048000,
      "implicitDf": true,
      "rowLimit": 10000
     },
     "inputWidgets": {},
     "nuid": "b4ae8bf0-86c8-4e3a-86ea-f8a07e5f4654",
     "showTitle": false,
     "tableResultSettingsMap": {},
     "title": ""
    }
   },
   "outputs": [],
   "source": [
    "%sql\n",
    "DESCRIBE TABLE orders;\n"
   ]
  },
  {
   "cell_type": "code",
   "execution_count": 0,
   "metadata": {
    "application/vnd.databricks.v1+cell": {
     "cellMetadata": {
      "byteLimit": 2048000,
      "implicitDf": true,
      "rowLimit": 10000
     },
     "inputWidgets": {},
     "nuid": "320c6faf-b861-4c20-9a6f-cbb38d885d62",
     "showTitle": false,
     "tableResultSettingsMap": {},
     "title": ""
    }
   },
   "outputs": [],
   "source": [
    "%sql\n",
    "SELECT c.customer_id,\n",
    "       c.first_name,\n",
    "       c.last_name,\n",
    "       c.email,\n",
    "       o.order_id,\n",
    "       o.order_date\n",
    "FROM customers c\n",
    "JOIN orders o\n",
    "  ON c.customer_id = o.customer_id;\n"
   ]
  },
  {
   "cell_type": "code",
   "execution_count": 0,
   "metadata": {
    "application/vnd.databricks.v1+cell": {
     "cellMetadata": {
      "byteLimit": 2048000,
      "implicitDf": true,
      "rowLimit": 10000
     },
     "inputWidgets": {},
     "nuid": "bdea7c4c-3c66-4829-b4a2-ba3e9ce324bd",
     "showTitle": false,
     "tableResultSettingsMap": {},
     "title": ""
    }
   },
   "outputs": [],
   "source": [
    "%sql\n",
    "\n",
    "-- Customers who placed at least one order\n",
    "\n",
    "SELECT DISTINCT c.customer_id, c.first_name, c.last_name, c.email\n",
    "FROM customers c\n",
    "JOIN orders o\n",
    "  ON c.customer_id = o.customer_id;\n"
   ]
  },
  {
   "cell_type": "code",
   "execution_count": 0,
   "metadata": {
    "application/vnd.databricks.v1+cell": {
     "cellMetadata": {
      "byteLimit": 2048000,
      "implicitDf": true,
      "rowLimit": 10000
     },
     "inputWidgets": {},
     "nuid": "a5f2916e-5a96-48a8-b228-66c136ad60f5",
     "showTitle": false,
     "tableResultSettingsMap": {},
     "title": ""
    }
   },
   "outputs": [],
   "source": [
    "%sql\n",
    "\n",
    "--Customers with no orders\n",
    "\n",
    "SELECT c.customer_id, c.first_name, c.last_name, c.email\n",
    "FROM customers c\n",
    "LEFT JOIN orders o\n",
    "  ON c.customer_id = o.customer_id\n",
    "-- WHERE o.order_id IS NULL;\n"
   ]
  },
  {
   "cell_type": "code",
   "execution_count": 0,
   "metadata": {
    "application/vnd.databricks.v1+cell": {
     "cellMetadata": {
      "byteLimit": 2048000,
      "implicitDf": true,
      "rowLimit": 10000
     },
     "inputWidgets": {},
     "nuid": "aaf33e8e-114f-4bb8-87ab-80ed7a6e32b6",
     "showTitle": false,
     "tableResultSettingsMap": {},
     "title": ""
    }
   },
   "outputs": [],
   "source": [
    "%sql\n",
    "--Count of orders per customer\n",
    "\n",
    "SELECT c.customer_id,\n",
    "       c.first_name,\n",
    "       c.last_name,\n",
    "       COUNT(o.order_id) AS total_orders\n",
    "FROM customers c\n",
    "LEFT JOIN orders o\n",
    "  ON c.customer_id = o.customer_id\n",
    "GROUP BY c.customer_id, c.first_name, c.last_name;\n"
   ]
  },
  {
   "cell_type": "code",
   "execution_count": 0,
   "metadata": {
    "application/vnd.databricks.v1+cell": {
     "cellMetadata": {
      "byteLimit": 2048000,
      "implicitDf": true,
      "rowLimit": 10000
     },
     "inputWidgets": {},
     "nuid": "000d63d6-bb44-42ea-9320-c25927aaaf9e",
     "showTitle": false,
     "tableResultSettingsMap": {},
     "title": ""
    }
   },
   "outputs": [],
   "source": [
    "%sql\n",
    "\n",
    "--All customers with their orders\n",
    "\n",
    "SELECT c.customer_id,\n",
    "       c.first_name,\n",
    "       c.last_name,\n",
    "       c.city,\n",
    "       c.email,\n",
    "       o.order_id,\n",
    "       o.order_date\n",
    "FROM customers c\n",
    "JOIN orders o\n",
    "  ON c.customer_id = o.customer_id\n",
    "ORDER BY c.customer_id, o.order_date;\n"
   ]
  },
  {
   "cell_type": "code",
   "execution_count": 0,
   "metadata": {
    "application/vnd.databricks.v1+cell": {
     "cellMetadata": {
      "byteLimit": 2048000,
      "implicitDf": true,
      "rowLimit": 10000
     },
     "inputWidgets": {},
     "nuid": "b0f72b5f-037b-4552-b94c-4bf84cbe2e9e",
     "showTitle": false,
     "tableResultSettingsMap": {},
     "title": ""
    }
   },
   "outputs": [],
   "source": [
    "%sql\n",
    "\n",
    "--Customers who have never placed an order\n",
    "\n",
    "SELECT c.customer_id,\n",
    "       c.first_name,\n",
    "       c.last_name,\n",
    "       c.city,\n",
    "       c.email\n",
    "FROM customers c\n",
    "LEFT JOIN orders o\n",
    "  ON c.customer_id = o.customer_id\n",
    "WHERE o.order_id IS NULL;\n"
   ]
  },
  {
   "cell_type": "code",
   "execution_count": 0,
   "metadata": {
    "application/vnd.databricks.v1+cell": {
     "cellMetadata": {
      "byteLimit": 2048000,
      "implicitDf": true,
      "rowLimit": 10000
     },
     "inputWidgets": {},
     "nuid": "e8c8e127-3a68-473c-8c2e-e4056be649cf",
     "showTitle": false,
     "tableResultSettingsMap": {},
     "title": ""
    }
   },
   "outputs": [],
   "source": [
    "%sql\n",
    "\n",
    "--Count of orders per customer\n",
    "\n",
    "SELECT c.customer_id,\n",
    "       c.first_name,\n",
    "       c.last_name,\n",
    "       COUNT(o.order_id) AS total_orders\n",
    "FROM customers c\n",
    "LEFT JOIN orders o\n",
    "  ON c.customer_id = o.customer_id\n",
    "GROUP BY c.customer_id, c.first_name, c.last_name\n",
    "ORDER BY total_orders DESC;\n"
   ]
  },
  {
   "cell_type": "code",
   "execution_count": 0,
   "metadata": {
    "application/vnd.databricks.v1+cell": {
     "cellMetadata": {
      "byteLimit": 2048000,
      "implicitDf": true,
      "rowLimit": 10000
     },
     "inputWidgets": {},
     "nuid": "b26a2885-c827-42fa-a550-95a3f7bac4c5",
     "showTitle": false,
     "tableResultSettingsMap": {},
     "title": ""
    }
   },
   "outputs": [],
   "source": [
    "%sql\n",
    "\n",
    "--Customers with their first order date\n",
    "\n",
    "SELECT c.customer_id,\n",
    "       c.first_name,\n",
    "       c.last_name,\n",
    "       MIN(o.order_date) AS first_order_date\n",
    "FROM customers c\n",
    "JOIN orders o\n",
    "  ON c.customer_id = o.customer_id\n",
    "GROUP BY c.customer_id, c.first_name, c.last_name\n",
    "ORDER BY first_order_date;\n"
   ]
  },
  {
   "cell_type": "code",
   "execution_count": 0,
   "metadata": {
    "application/vnd.databricks.v1+cell": {
     "cellMetadata": {
      "byteLimit": 2048000,
      "implicitDf": true,
      "rowLimit": 10000
     },
     "inputWidgets": {},
     "nuid": "4c56fcaa-f7a8-4897-be89-30709ae1b01d",
     "showTitle": false,
     "tableResultSettingsMap": {},
     "title": ""
    }
   },
   "outputs": [],
   "source": [
    "%sql\n",
    "\n",
    "--Orders by city\n",
    "\n",
    "SELECT c.city,\n",
    "       COUNT(o.order_id) AS total_orders\n",
    "FROM customers c\n",
    "JOIN orders o\n",
    "  ON c.customer_id = o.customer_id\n",
    "GROUP BY c.city\n",
    "ORDER BY total_orders DESC;\n"
   ]
  },
  {
   "cell_type": "code",
   "execution_count": 0,
   "metadata": {
    "application/vnd.databricks.v1+cell": {
     "cellMetadata": {
      "byteLimit": 2048000,
      "implicitDf": true,
      "rowLimit": 10000
     },
     "inputWidgets": {},
     "nuid": "528362b0-90c0-4508-9d8c-52ffe523334c",
     "showTitle": false,
     "tableResultSettingsMap": {},
     "title": ""
    }
   },
   "outputs": [],
   "source": [
    "%sql\n",
    "\n",
    "--Orders by gender\n",
    "\n",
    "SELECT c.gender,\n",
    "       COUNT(o.order_id) AS total_orders\n",
    "FROM customers c\n",
    "JOIN orders o\n",
    "  ON c.customer_id = o.customer_id\n",
    "GROUP BY c.gender;\n"
   ]
  },
  {
   "cell_type": "code",
   "execution_count": 0,
   "metadata": {
    "application/vnd.databricks.v1+cell": {
     "cellMetadata": {
      "byteLimit": 2048000,
      "implicitDf": true,
      "rowLimit": 10000
     },
     "inputWidgets": {},
     "nuid": "d7b75b96-caf7-41c6-89ab-bf9d8cad76df",
     "showTitle": false,
     "tableResultSettingsMap": {},
     "title": ""
    }
   },
   "outputs": [],
   "source": [
    "%sql\n",
    "\n",
    "--Recent 10 orders with customer details\n",
    "\n",
    "\n",
    "SELECT o.order_id,\n",
    "       o.order_date,\n",
    "       c.first_name,\n",
    "       c.last_name,\n",
    "       c.email\n",
    "FROM orders o\n",
    "JOIN customers c\n",
    "  ON o.customer_id = c.customer_id\n",
    "ORDER BY o.order_date DESC\n",
    "-- LIMIT 10;\n"
   ]
  }
 ],
 "metadata": {
  "application/vnd.databricks.v1+notebook": {
   "computePreferences": null,
   "dashboards": [],
   "environmentMetadata": {
    "base_environment": "",
    "environment_version": "3"
   },
   "inputWidgetPreferences": null,
   "language": "python",
   "notebookMetadata": {
    "mostRecentlyExecutedCommandWithImplicitDF": {
     "commandId": 8946588446087218,
     "dataframes": [
      "_sqldf"
     ]
    },
    "pythonIndentUnit": 4
   },
   "notebookName": "dynamic-procedure",
   "widgets": {}
  },
  "language_info": {
   "name": "python"
  }
 },
 "nbformat": 4,
 "nbformat_minor": 0
}
